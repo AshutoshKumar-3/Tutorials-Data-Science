{
 "cells": [
  {
   "cell_type": "markdown",
   "id": "00b1ce3b",
   "metadata": {},
   "source": [
    "# Data Science Tools and Ecosystem"
   ]
  },
  {
   "cell_type": "markdown",
   "id": "723fc8f9",
   "metadata": {},
   "source": [
    "In this notebook, Data Science Tools and Ecosystem are summarized."
   ]
  },
  {
   "cell_type": "markdown",
   "id": "4a984e10",
   "metadata": {},
   "source": [
    "Some of the popular languages that Data Scientists use are: \n",
    "1. Python\n",
    "2. R\n",
    "3. SQL"
   ]
  },
  {
   "cell_type": "markdown",
   "id": "7edb1395",
   "metadata": {},
   "source": [
    "Some of the commonly used libraries used by Data Scientists include:\n",
    "1. Caret\n",
    "2. PyTorch\n",
    "3. Sci-kit learn"
   ]
  },
  {
   "cell_type": "markdown",
   "id": "9a6a3507",
   "metadata": {},
   "source": [
    "| Data science tools | IDE | IDE | IDE |\n",
    "| ------------------ | --- | --- | --- |\n",
    "| R  | Rstudio | JupyterLab | RTVS |\n",
    "| Deep learning | PyTorch | Tensorflow | Apache MXNET |\n",
    "| Machine Learning | IBM Watson | Kaggle Kernel | Microsoft Azure |"
   ]
  },
  {
   "cell_type": "markdown",
   "id": "5bb69335",
   "metadata": {},
   "source": [
    "### Below are a few examples of evaluating arithmetic expressions in Python"
   ]
  },
  {
   "cell_type": "code",
   "execution_count": 1,
   "id": "19847294",
   "metadata": {},
   "outputs": [
    {
     "data": {
      "text/plain": [
       "17"
      ]
     },
     "execution_count": 1,
     "metadata": {},
     "output_type": "execute_result"
    }
   ],
   "source": [
    "#This a simple arithmetic expression to multiply then add integers\n",
    "(3*4)+5"
   ]
  },
  {
   "cell_type": "code",
   "execution_count": 2,
   "id": "2f3ef6c9",
   "metadata": {},
   "outputs": [
    {
     "name": "stdout",
     "output_type": "stream",
     "text": [
      "3.3333333333333335\n"
     ]
    }
   ],
   "source": [
    "#This will convert 200 minutes to hours by diving by 60\n",
    "minutes = 200\n",
    "hours = (minutes)/60\n",
    "print(hours)"
   ]
  },
  {
   "cell_type": "markdown",
   "id": "57be6518",
   "metadata": {},
   "source": [
    "**Objectives:**\n",
    "- Python\n",
    "- R\n",
    "- SQL\n",
    "- Julia"
   ]
  },
  {
   "cell_type": "markdown",
   "id": "7e4ea851",
   "metadata": {},
   "source": [
    "## Author\n",
    "Ashutosh"
   ]
  }
 ],
 "metadata": {
  "kernelspec": {
   "display_name": "Python 3 (ipykernel)",
   "language": "python",
   "name": "python3"
  },
  "language_info": {
   "codemirror_mode": {
    "name": "ipython",
    "version": 3
   },
   "file_extension": ".py",
   "mimetype": "text/x-python",
   "name": "python",
   "nbconvert_exporter": "python",
   "pygments_lexer": "ipython3",
   "version": "3.9.13"
  }
 },
 "nbformat": 4,
 "nbformat_minor": 5
}
